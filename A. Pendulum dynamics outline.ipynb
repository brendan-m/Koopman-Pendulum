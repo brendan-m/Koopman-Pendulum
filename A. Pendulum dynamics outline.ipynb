{
 "cells": [
  {
   "cell_type": "markdown",
   "id": "be10d08f",
   "metadata": {},
   "source": [
    "# 1. Pendulum dynamics introduction\n",
    "\n",
    "In this notebook the dynamics of a pendulum are briefly introduced, to highlight the applicability of learning this non-linear dynamics problem with a Koopman operator theory based approach"
   ]
  },
  {
   "cell_type": "markdown",
   "id": "d95b567f",
   "metadata": {},
   "source": [
    "## Equations of motion of a pendulum\n",
    "\n",
    "The differential equation governing the motion of a pendulum is defined by:\n",
    "\n",
    "\\begin{equation}\n",
    "\\frac{d^2 \\theta }{dt^2} + \\frac{g}{l} sin \\theta = 0,\n",
    "\\label{eq1}\n",
    "\\end{equation}\n",
    "\n",
    "where $\\theta$ is the angle, $g$ gravity, and $l$ the length of the rod. Mass, friction, and any additional torques are ignored for this tutorial.\n",
    "\n",
    "As the motion of the pendulum is governed solely by two variables, the angle $\\theta$ and the angular velocity $\\dot{\\theta}$, a state space formulation is used where the state of the system is given by the vector:\n",
    "\n",
    "\\begin{equation}\n",
    "x = [\\theta,\\dot{\\theta}]\n",
    "\\end{equation}\n",
    "\n",
    "Given this, the dynamics function for calculating the next timestep is:\n",
    "\n",
    "\\begin{equation}\n",
    "f = \\dot{x} = [\\dot{\\theta},\\ddot{\\theta}],\n",
    "\\end{equation}\n",
    "\n",
    "where $\\ddot{\\theta}$ is the angular accelleration, and is given by the non-linear equation:\n",
    "\n",
    "\\begin{equation}\n",
    "\\ddot{\\theta} = \\frac{g}{l} \\sin(\\theta)\n",
    "\\end{equation}"
   ]
  },
  {
   "cell_type": "markdown",
   "id": "8075574c",
   "metadata": {},
   "source": [
    "# Python Example\n",
    "Given these equations, a trajectory of motion of $N$ timesteps can be simulated. In this, the rk4 solver is used:"
   ]
  },
  {
   "cell_type": "markdown",
   "id": "5ebbd4fe",
   "metadata": {},
   "source": [
    "## Define experimental parameters"
   ]
  },
  {
   "cell_type": "code",
   "execution_count": null,
   "id": "3e11f2df",
   "metadata": {},
   "outputs": [],
   "source": [
    "import numpy as np\n",
    "N = 150    # Number of timesteps to simulate for\n",
    "dt = 0.02  # Step size\n",
    "g = -9.81  # Gravity\n",
    "l = 1      # Length of rod\n",
    "x0 = [1,0] # Initial state\n",
    "\n",
    "f = lambda x : [x[1], (g/l)*np.sin(x[0])] # Dynamics function"
   ]
  },
  {
   "cell_type": "markdown",
   "id": "6c27e508",
   "metadata": {},
   "source": [
    "## Create a function for simulating trajectories according to f"
   ]
  },
  {
   "cell_type": "code",
   "execution_count": null,
   "id": "8ef0c92f",
   "metadata": {},
   "outputs": [],
   "source": [
    "def generate_trajectory(N,x0):\n",
    "    t = np.zeros(N)      # timesteps\n",
    "    x = np.zeros((2,N))  # empty state matrix\n",
    "    x[:,0] = x0          # initialise\n",
    "\n",
    "    # For each timestep  \n",
    "    for n in range(N-1):        \n",
    "        # rk4 solver\n",
    "        a = np.multiply(dt,f(x[:,n]))\n",
    "        b = np.multiply(dt,f(x[:,n]+.5*a))\n",
    "        c = np.multiply(dt,f(x[:,n]+.5*b))\n",
    "        d = np.multiply(dt,f(x[:,n]+c))\n",
    "\n",
    "        # Simulate next step\n",
    "        x[:,n+1] = x[:,n]+(1/6)*(a+2*b+2*c+d)\n",
    "        t[n+1]   = t[n]+dt   \n",
    "    return x"
   ]
  },
  {
   "cell_type": "markdown",
   "id": "768dc066",
   "metadata": {},
   "source": [
    "# Example: Simulate an trajectory"
   ]
  },
  {
   "cell_type": "code",
   "execution_count": null,
   "id": "1e19f96f",
   "metadata": {},
   "outputs": [],
   "source": [
    "x = generate_trajectory(N,x0)"
   ]
  },
  {
   "cell_type": "markdown",
   "id": "a464b637",
   "metadata": {},
   "source": [
    "## Visualise"
   ]
  },
  {
   "cell_type": "code",
   "execution_count": null,
   "id": "f4c5ece7",
   "metadata": {},
   "outputs": [],
   "source": [
    "%matplotlib inline\n",
    "import matplotlib.pyplot as plt\n",
    "from matplotlib import animation\n",
    "import seaborn as sns\n",
    "from IPython import display\n",
    "sns.set(font_scale=1)"
   ]
  },
  {
   "cell_type": "code",
   "execution_count": null,
   "id": "be55c334",
   "metadata": {},
   "outputs": [],
   "source": [
    "fig = plt.figure()\n",
    "_ = plt.plot(x.T,label=[r'$\\theta$',r'$\\dot{\\theta}$'])\n",
    "plt.xlabel('Time')\n",
    "plt.title('Pendulum (Individual variables)')\n",
    "plt.legend()"
   ]
  },
  {
   "cell_type": "markdown",
   "id": "4f358a3e",
   "metadata": {},
   "source": [
    "## Plot the swinging pendulum, and the phase space\n",
    "\n",
    "Given the above code, we can now see what the state space of this problem looks like"
   ]
  },
  {
   "cell_type": "code",
   "execution_count": null,
   "id": "ad6086c7",
   "metadata": {},
   "outputs": [],
   "source": [
    "# create background and axes\n",
    "fig, (ax1,ax2)  = plt.subplots(1,2,figsize=(10,8))\n",
    "ax1.set_xlim(-l*2, l*2)\n",
    "ax1.set_ylim(-l*2, l*2)\n",
    "ax2.set_xlim(-l*3.5, l*3.5)\n",
    "ax2.set_ylim(-l*6.5, l*6.5)\n",
    "ax1.set_xlabel(r'$Coord_1$')\n",
    "ax1.set_ylabel(r'$Coord_2$')\n",
    "ax2.set_xlabel(r'Angle $(\\theta)$')\n",
    "ax2.set_ylabel(r'Angular velocity $(\\dot{\\theta})$')\n",
    "ax1.set_title('Cartesian space')\n",
    "ax2.set_title('State space')\n",
    "ax1.set_aspect(np.diff(ax1.get_xlim())[-1]/np.diff(ax1.get_ylim())[-1])\n",
    "ax2.set_aspect(np.diff(ax2.get_xlim())[-1]/np.diff(ax2.get_ylim())[-1])\n",
    "\n",
    "# Define objects\n",
    "rod, = ax1.plot([],linewidth=5,color='k') \n",
    "phase = ax2.scatter([],[]) \n",
    "\n",
    "# Plot the entire state trajectory of the example\n",
    "ax2.plot(x[0,:],x[1,:])\n",
    "\n",
    "# Compute the tip (Cartesian) coordinates for the example trajectory (the end position of the rod)\n",
    "tip_coord_axis1 = l*np.sin(x[0,:])\n",
    "tip_coord_axis2 = -l*np.cos(x[0,:])\n",
    "\n",
    "# Plot some different initial conditions to cover the state space\n",
    "for ic in np.deg2rad(np.linspace(-170,170,20)):\n",
    "    xi = generate_trajectory(N,[ic,0])\n",
    "    ax2.plot(xi[0,:],xi[1,:],alpha=0.5)\n",
    "\n",
    "# Define the animation of the swinging pendulum and position in state space\n",
    "def animate(frame_num):\n",
    "    rod.set_data(([0,tip_coord_axis1[frame_num]], [0,tip_coord_axis2[frame_num]]))\n",
    "    phase.set_offsets([x[0,frame_num], x[1,frame_num]])\n",
    "    return rod,phase\n",
    "\n",
    "# Compute animation\n",
    "anim = animation.FuncAnimation(fig, animate, frames=N, interval=20, blit=True)\n",
    "\n",
    "# Render for HTML5\n",
    "from IPython.display import HTML\n",
    "HTML(anim.to_html5_video())"
   ]
  },
  {
   "cell_type": "markdown",
   "id": "2d5b1569",
   "metadata": {},
   "source": [
    "# Nonlinearity\n",
    "\n",
    "As can be seen in the above video, the $\\sin$ function in the equations of motion creates non-linearity in the state space (the elongation). In the context of the pendulum, this corresponds to an change in the trajectory shape for large displacements, and simple harmonic motion for small displacements.  "
   ]
  },
  {
   "cell_type": "markdown",
   "id": "2e93d206",
   "metadata": {},
   "source": [
    "## Generate example trajectories\n",
    "To further visualise this, consider the following trajectories"
   ]
  },
  {
   "cell_type": "code",
   "execution_count": null,
   "id": "abf09482",
   "metadata": {},
   "outputs": [],
   "source": [
    "# Example of a small displacement trajectory\n",
    "x0_small = [np.deg2rad(6),0]\n",
    "x_small= generate_trajectory(N*5,x0_small)\n",
    "\n",
    "# Example of a large displacement trajectory\n",
    "x0_large = [np.deg2rad(179),0]\n",
    "x_large = generate_trajectory(N*5,x0_large)"
   ]
  },
  {
   "cell_type": "markdown",
   "id": "c289e212",
   "metadata": {},
   "source": [
    "## Plot trajectories"
   ]
  },
  {
   "cell_type": "code",
   "execution_count": null,
   "id": "316f20d6",
   "metadata": {},
   "outputs": [],
   "source": [
    "fig = plt.figure(figsize=(12,10))\n",
    "plt.subplot(221)\n",
    "_ = plt.plot(x_small.T,label=[r'$\\theta$',r'$\\dot{\\theta}$'])\n",
    "plt.xlabel('Time')\n",
    "plt.legend()\n",
    "plt.title('Small displacement')\n",
    "\n",
    "plt.subplot(222)\n",
    "_ = plt.plot(x_small[0,:],x_small[1,:])\n",
    "plt.xlabel(r'Angle $(\\theta)$')\n",
    "plt.ylabel(r'Angular velocity $(\\dot{\\theta})$')\n",
    "\n",
    "plt.subplot(223)\n",
    "_ = plt.plot(x_large.T,label=[r'$\\theta$',r'$\\dot{\\theta}$'])\n",
    "plt.xlabel('Time')\n",
    "plt.legend()\n",
    "plt.title('Large displacement')\n",
    "\n",
    "plt.subplot(224)\n",
    "_ = plt.plot(x_large[0,:],x_large[1,:])\n",
    "plt.xlabel(r'Angle $(\\theta)$')\n",
    "plt.ylabel(r'Angular velocity $(\\dot{\\theta})$')"
   ]
  },
  {
   "cell_type": "markdown",
   "id": "ef63385d",
   "metadata": {},
   "source": [
    "## Summary:\n",
    "\n",
    "This notebook has briefly demonstrated the dynamics of the pendulum, and shown these to be relatively simple, low-dimensional, and non-linear. As such, this is a good use-case for examining learning these dynamics with a Koopman based approach. \n",
    "\n",
    "See the next notebook, [B. Learning pendulum dynamics - small angle approximation](), for a first look at applying Koopman theory to the pendulum problem."
   ]
  }
 ],
 "metadata": {
  "kernelspec": {
   "display_name": "Python 3 (ipykernel)",
   "language": "python",
   "name": "python3"
  },
  "language_info": {
   "codemirror_mode": {
    "name": "ipython",
    "version": 3
   },
   "file_extension": ".py",
   "mimetype": "text/x-python",
   "name": "python",
   "nbconvert_exporter": "python",
   "pygments_lexer": "ipython3",
   "version": "3.9.16"
  }
 },
 "nbformat": 4,
 "nbformat_minor": 5
}
